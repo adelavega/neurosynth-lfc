{
 "cells": [
  {
   "cell_type": "markdown",
   "metadata": {},
   "source": [
    "# Coactivation analysis"
   ]
  },
  {
   "cell_type": "markdown",
   "metadata": {},
   "source": [
    "In this analysis, I contrast the co-activation between each voxel, and the mean co-activation of LFC. In other words, we're looking for voxels across the brain that co-activate with each individual voxel to a greater extent than LFC as a whole."
   ]
  },
  {
   "cell_type": "code",
   "execution_count": 15,
   "metadata": {
    "collapsed": true
   },
   "outputs": [],
   "source": [
    "%matplotlib inline\n",
    "import nibabel as nib\n",
    "from neurosynth.base.dataset import Dataset\n",
    "dataset = Dataset.load(\"data/neurosynth_60_0.6.pkl\")"
   ]
  },
  {
   "cell_type": "code",
   "execution_count": 10,
   "metadata": {
    "collapsed": false
   },
   "outputs": [],
   "source": [
    "lfc_70 = nib.load('images/lfc_70.nii.gz')"
   ]
  },
  {
   "cell_type": "code",
   "execution_count": 14,
   "metadata": {
    "collapsed": false
   },
   "outputs": [],
   "source": [
    "from utils import mask_nifti\n",
    "lfc_70_masked = mask_nifti(lfc_70, nib.load('masks/lfc_mask_liberal.nii.gz'))"
   ]
  },
  {
   "cell_type": "code",
   "execution_count": 17,
   "metadata": {
    "collapsed": false
   },
   "outputs": [
    {
     "name": "stderr",
     "output_type": "stream",
     "text": [
      "/Users/alejandro/anaconda2/lib/python2.7/site-packages/neurosynth/analysis/meta.py:135: RuntimeWarning: invalid value encountered in divide\n",
      "  pFgA = pAgF * pF / pA\n",
      "/Users/alejandro/anaconda2/lib/python2.7/site-packages/neurosynth/analysis/meta.py:140: RuntimeWarning: invalid value encountered in divide\n",
      "  pFgA_prior = pAgF * prior / pA_prior\n"
     ]
    },
    {
     "ename": "KeyError",
     "evalue": "'pFgA_z_FDR_0.01'",
     "output_type": "error",
     "traceback": [
      "\u001b[0;31m---------------------------------------------------------------------------\u001b[0m",
      "\u001b[0;31mKeyError\u001b[0m                                  Traceback (most recent call last)",
      "\u001b[0;32m<ipython-input-17-17a358d52995>\u001b[0m in \u001b[0;36m<module>\u001b[0;34m()\u001b[0m\n\u001b[1;32m      2\u001b[0m \u001b[0mregions\u001b[0m \u001b[0;34m=\u001b[0m \u001b[0mnp\u001b[0m\u001b[0;34m.\u001b[0m\u001b[0marange\u001b[0m\u001b[0;34m(\u001b[0m\u001b[0;36m1\u001b[0m\u001b[0;34m,\u001b[0m \u001b[0;36m15\u001b[0m\u001b[0;34m)\u001b[0m\u001b[0;34m\u001b[0m\u001b[0m\n\u001b[1;32m      3\u001b[0m l70_contrast = coactivation_contrast(dataset, lfc_70_masked, contrast='joint', regions=regions,\n\u001b[0;32m----> 4\u001b[0;31m                                      target_thresh=0.01, other_thresh=0.01, q=0.01)\n\u001b[0m",
      "\u001b[0;32m/Users/alejandro/Dropbox/repos/neurosynth-lfc/coactivation.py\u001b[0m in \u001b[0;36mcoactivation_contrast\u001b[0;34m(dataset, infile, regions, target_thresh, other_thresh, q, contrast)\u001b[0m\n\u001b[1;32m     58\u001b[0m \u001b[0;34m\u001b[0m\u001b[0m\n\u001b[1;32m     59\u001b[0m     return [nib.nifti1.Nifti1Image(dataset.masker.unmask(\n\u001b[0;32m---> 60\u001b[0;31m                 ma.images[stat]), affine, dataset.masker.get_header()) for ma in meta_analyses]\n\u001b[0m\u001b[1;32m     61\u001b[0m \u001b[0;34m\u001b[0m\u001b[0m\n",
      "\u001b[0;31mKeyError\u001b[0m: 'pFgA_z_FDR_0.01'"
     ]
    }
   ],
   "source": [
    "from coactivation import coactivation_contrast\n",
    "regions = np.arange(1, 15)\n",
    "l70_contrast = coactivation_contrast(dataset, lfc_70_masked, contrast='joint', regions=regions,\n",
    "                                     target_thresh=0.01, other_thresh=0.01, q=0.01)"
   ]
  },
  {
   "cell_type": "code",
   "execution_count": null,
   "metadata": {
    "collapsed": true
   },
   "outputs": [],
   "source": []
  }
 ],
 "metadata": {
  "anaconda-cloud": {},
  "kernelspec": {
   "display_name": "Python 2",
   "language": "python",
   "name": "python2"
  },
  "language_info": {
   "codemirror_mode": {
    "name": "ipython",
    "version": 2
   },
   "file_extension": ".py",
   "mimetype": "text/x-python",
   "name": "python",
   "nbconvert_exporter": "python",
   "pygments_lexer": "ipython2",
   "version": "2.7.11"
  }
 },
 "nbformat": 4,
 "nbformat_minor": 1
}
